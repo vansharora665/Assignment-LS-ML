{
  "cells": [
    {
      "cell_type": "code",
      "execution_count": 210,
      "metadata": {
        "id": "-zTLHrFCT6KY"
      },
      "outputs": [],
      "source": [
        "import numpy as np\n",
        "import pandas as pd\n",
        "#import matplotlib.pyplot as plt\n",
        "\n",
        "\n",
        "# Aim is to predict the marks of students of the test data"
      ]
    },
    {
      "cell_type": "code",
      "execution_count": 211,
      "metadata": {
        "colab": {
          "base_uri": "https://localhost:8080/",
          "height": 219
        },
        "id": "p0KHq8ZgTpU4",
        "outputId": "cb8eca86-2fb5-4477-a5ee-c15174b748e9"
      },
      "outputs": [],
      "source": [
        "# Use the file namd 'training data' to train the model\n",
        "\n",
        "data = pd.read_excel('Training data.xlsx')\n",
        "x_train = np.array(data.iloc[:,0:8])\n",
        "y_train = np.array(data.iloc[:,8]).reshape(-1,1)\n",
        "\n",
        "# Try plotting y_train with different features\n",
        "# To get an idea whether to add some features or not\n",
        "# Add some features if required in x_train\n",
        "\n",
        "# Also do label encoding for features not represented in numbers\n",
        "# refer the link if not know : https://youtu.be/589nCGeWG1w?si=t2Wa7LgbUOO4RooM\n",
        "\n",
        "def feature_changing(x_train):\n",
        "  # ---------\n",
        "  \n",
        "  x_train[x_train=='yes']=1\n",
        "  x_train[x_train=='no']=0\n",
        "  x_train[x_train=='M']=1\n",
        "  x_train[x_train=='F']=0  \n",
        "  #x_train=x_train.astype(np.float64)\n",
        "\n",
        "  # ---------\n",
        "  return x_train\n",
        "\n",
        "\n",
        "x_train = feature_changing(x_train)"
      ]
    },
    {
      "cell_type": "code",
      "execution_count": 212,
      "metadata": {
        "id": "tYshvtYlVour"
      },
      "outputs": [],
      "source": [
        "\n",
        "def z_score(x_train):\n",
        "\n",
        "  # ---------\n",
        "  #m=np.mean(x_train,axis=0)\n",
        "  #s=np.std(x_train,axis=0)\n",
        "  \n",
        "  x_mean=np.mean(x_train,axis=0)\n",
        "  x_std=np.std(x_train,axis=0)\n",
        "  x_train=(x_train-x_mean)/x_std\n",
        "  # ---------\n",
        "\n",
        "  return x_train,x_std,x_mean"
      ]
    },
    {
      "cell_type": "code",
      "execution_count": 213,
      "metadata": {
        "id": "O5dOwbNbWJWa"
      },
      "outputs": [],
      "source": [
        "def cost(x_train,y_train,w,b):\n",
        "\n",
        "  # ---------\n",
        "  m=x_train.shape[0]\n",
        "  \n",
        "  f_wb=np.dot(x_train,w) + b\n",
        "  cost=(f_wb-y_train)**2\n",
        "  loss=(1/(2*m))*np.sum(cost,axis=0)\n",
        "  \n",
        "  # ---------\n",
        "\n",
        "  return loss"
      ]
    },
    {
      "cell_type": "code",
      "execution_count": 214,
      "metadata": {
        "id": "hW8p2cTNU74W"
      },
      "outputs": [],
      "source": [
        "def gradient_descent(x_train,y_train,w,b):\n",
        "\n",
        "  # ---------\n",
        "  dj_dw=np.zeros((8,1))\n",
        "  dj_db=np.zeros((1000,1))\n",
        "  m=x_train.shape[0]\n",
        "  for i in range(m):\n",
        "    f_wb=np.dot(x_train,w) + b\n",
        "    dj_dw=np.dot(x_train.T,(f_wb-y_train))\n",
        "    dj_db=np.sum(f_wb-y_train)\n",
        "    w-=(0.01/m)*dj_dw\n",
        "    b-=(0.01/m)*dj_db\n",
        "  # ---------\n",
        "\n",
        "  return w,b"
      ]
    },
    {
      "cell_type": "code",
      "execution_count": 215,
      "metadata": {
        "id": "Kl-fioJ5WkYn"
      },
      "outputs": [
        {
          "name": "stdout",
          "output_type": "stream",
          "text": [
            "Congratulations, your accuracy is 100.0%\n"
          ]
        }
      ],
      "source": [
        "x_train = x_train.astype(np.float64)\n",
        "x_train,x_std,x_mean = z_score(x_train)\n",
        "\n",
        "np.random.seed(2147483647)\n",
        "w = np.random.randn(x_train.shape[1],1)\n",
        "b = np.random.randn(1)\n",
        "\n",
        "old_cost = 0\n",
        "\n",
        "while True:\n",
        "  current_cost=cost(x_train,y_train,w,b)\n",
        "  if abs(old_cost - current_cost>0.00001):\n",
        "    break\n",
        "  old_cost = cost(x_train,y_train,w,b)\n",
        "  w,b = gradient_descent(x_train,y_train,w,b)\n",
        "\n",
        "  \n",
        "x_predict = pd.read_excel('Test data.xlsx').iloc[:,:8].to_numpy()\n",
        "x_predict = feature_changing(x_predict)\n",
        "x_predict = (x_predict - x_mean)/x_std\n",
        "ans = pd.read_excel('Test data.xlsx').iloc[:,8].to_numpy()\n",
        "\n",
        "y_predict = np.dot(x_predict,w) + b\n",
        "\n",
        "accuracy = 0\n",
        "for dim in range(len(ans)):\n",
        "  if abs(y_predict[dim]-ans[dim])<0.5: # do not change the tolerance as you'll be checked on +- 0.5 error only\n",
        "    accuracy += 1\n",
        "accuracy = round(accuracy*100/200.0,2)\n",
        "ok = 'Congratulations' if accuracy>95 else 'Optimization required'\n",
        "print(f\"{ok}, your accuracy is {accuracy}%\")"
      ]
    },
    {
      "cell_type": "code",
      "execution_count": null,
      "metadata": {},
      "outputs": [],
      "source": []
    }
  ],
  "metadata": {
    "colab": {
      "provenance": []
    },
    "kernelspec": {
      "display_name": "Python 3",
      "name": "python3"
    },
    "language_info": {
      "codemirror_mode": {
        "name": "ipython",
        "version": 3
      },
      "file_extension": ".py",
      "mimetype": "text/x-python",
      "name": "python",
      "nbconvert_exporter": "python",
      "pygments_lexer": "ipython3",
      "version": "3.12.4"
    }
  },
  "nbformat": 4,
  "nbformat_minor": 0
}
